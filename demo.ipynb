{
 "cells": [
  {
   "cell_type": "code",
   "execution_count": 1,
   "metadata": {},
   "outputs": [],
   "source": [
    "from video_dataset import VideoFrameDataset\n",
    "import os\n",
    "import matplotlib.pyplot as plt\n",
    "from torchvision import transforms as T"
   ]
  },
  {
   "cell_type": "code",
   "execution_count": 2,
   "metadata": {},
   "outputs": [],
   "source": [
    "val_transform = T.Compose([\n",
    "        T.Resize((224, 224)),\n",
    "        T.ToTensor(),\n",
    "        # T.Normalize(\n",
    "        #     mean=(0.485, 0.456, 0.406),\n",
    "        #     std=(0.229, 0.224, 0.225)\n",
    "        # ),\n",
    "\n",
    "    ])"
   ]
  },
  {
   "cell_type": "code",
   "execution_count": 3,
   "metadata": {},
   "outputs": [
    {
     "name": "stdout",
     "output_type": "stream",
     "text": [
      "\n",
      "Dataset Warning: video /home/vietlq4/zaloaichallenge/zaloai/train/videos/84 has 4 frames but the dataloader is set up to load (num_segments=16)*(frames_per_segment=1)=16 frames. Dataloader will throw an error when trying to load this video.\n",
      "\n",
      "\n",
      "Dataset Warning: video /home/vietlq4/zaloaichallenge/zaloai/train/videos/393 has 5 frames but the dataloader is set up to load (num_segments=16)*(frames_per_segment=1)=16 frames. Dataloader will throw an error when trying to load this video.\n",
      "\n",
      "\n",
      "Dataset Warning: video /home/vietlq4/zaloaichallenge/zaloai/train/videos/1146 has 4 frames but the dataloader is set up to load (num_segments=16)*(frames_per_segment=1)=16 frames. Dataloader will throw an error when trying to load this video.\n",
      "\n",
      "\n",
      "Dataset Warning: video /home/vietlq4/zaloaichallenge/zaloai/train/videos/1669 has 6 frames but the dataloader is set up to load (num_segments=16)*(frames_per_segment=1)=16 frames. Dataloader will throw an error when trying to load this video.\n",
      "\n",
      "\n",
      "Dataset Warning: video /home/vietlq4/zaloaichallenge/zaloai/train/videos/1779 has 6 frames but the dataloader is set up to load (num_segments=16)*(frames_per_segment=1)=16 frames. Dataloader will throw an error when trying to load this video.\n",
      "\n",
      "\n",
      "Dataset Warning: video /home/vietlq4/zaloaichallenge/zaloai/train/videos/1838 has 6 frames but the dataloader is set up to load (num_segments=16)*(frames_per_segment=1)=16 frames. Dataloader will throw an error when trying to load this video.\n",
      "\n",
      "torch.Size([16, 3, 224, 224])\n",
      "/home/vietlq4/zaloaichallenge/zaloai/train/videos/252\n",
      "1\n"
     ]
    }
   ],
   "source": [
    "import random\n",
    "# random.seed(0)\n",
    "root = os.path.join(os.getcwd(), 'zaloai/train/videos')  # Folder in which all videos lie in a specific structure\n",
    "annotation_file = os.path.join(root.replace('videos', ''), 'annotations.txt')  # A row for each video sample as: (VIDEO_PATH START_FRAME END_FRAME CLASS_ID)\n",
    "\n",
    "\"\"\" DEMO 1 WITHOUT IMAGE TRANSFORMS \"\"\"\n",
    "dataset = VideoFrameDataset(\n",
    "    root_path=root,\n",
    "    annotationfile_path=annotation_file,\n",
    "    num_segments=16,\n",
    "    frames_per_segment=1,\n",
    "    imagefile_template='img_{:05d}.jpg',\n",
    "    transform=val_transform,\n",
    "    test_mode=False\n",
    ")\n",
    "\n",
    "sample = dataset[random.randint(0, 351)]  # take first sample of dataset \n",
    "frames = sample[0]   # list of PIL images\n",
    "label = sample[1]    # integer label\n",
    "path = sample[2]\n",
    "print(frames.shape)\n",
    "print(path)\n",
    "print(label)"
   ]
  },
  {
   "cell_type": "code",
   "execution_count": null,
   "metadata": {},
   "outputs": [],
   "source": []
  }
 ],
 "metadata": {
  "kernelspec": {
   "display_name": "py37",
   "language": "python",
   "name": "python3"
  },
  "language_info": {
   "codemirror_mode": {
    "name": "ipython",
    "version": 3
   },
   "file_extension": ".py",
   "mimetype": "text/x-python",
   "name": "python",
   "nbconvert_exporter": "python",
   "pygments_lexer": "ipython3",
   "version": "3.7.13"
  },
  "orig_nbformat": 4,
  "vscode": {
   "interpreter": {
    "hash": "c844a1953941c6e994ad36ecffaa47cd6e7c29c36adf75c89300a3339db050f1"
   }
  }
 },
 "nbformat": 4,
 "nbformat_minor": 2
}
