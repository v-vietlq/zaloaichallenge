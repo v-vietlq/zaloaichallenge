{
 "cells": [
  {
   "cell_type": "code",
   "execution_count": 4,
   "metadata": {},
   "outputs": [],
   "source": [
    "from video_dataset import VideoFrameDataset\n",
    "import os\n",
    "import matplotlib.pyplot as plt\n",
    "from torchvision import transforms as T\n",
    "import pandas as pd\n",
    "from sklearn.model_selection import train_test_split"
   ]
  },
  {
   "cell_type": "code",
   "execution_count": 2,
   "metadata": {},
   "outputs": [],
   "source": [
    "val_transform = T.Compose([\n",
    "        T.Resize((224, 224)),\n",
    "        T.ToTensor(),\n",
    "        # T.Normalize(\n",
    "        #     mean=(0.485, 0.456, 0.406),\n",
    "        #     std=(0.229, 0.224, 0.225)\n",
    "        # ),\n",
    "\n",
    "    ])"
   ]
  },
  {
   "cell_type": "code",
   "execution_count": 3,
   "metadata": {},
   "outputs": [
    {
     "name": "stdout",
     "output_type": "stream",
     "text": [
      "\n",
      "Dataset Warning: video /home/vietlq4/zaloaichallenge/zaloai/train/videos/84 has 4 frames but the dataloader is set up to load (num_segments=16)*(frames_per_segment=1)=16 frames. Dataloader will throw an error when trying to load this video.\n",
      "\n",
      "\n",
      "Dataset Warning: video /home/vietlq4/zaloaichallenge/zaloai/train/videos/393 has 5 frames but the dataloader is set up to load (num_segments=16)*(frames_per_segment=1)=16 frames. Dataloader will throw an error when trying to load this video.\n",
      "\n",
      "\n",
      "Dataset Warning: video /home/vietlq4/zaloaichallenge/zaloai/train/videos/1146 has 4 frames but the dataloader is set up to load (num_segments=16)*(frames_per_segment=1)=16 frames. Dataloader will throw an error when trying to load this video.\n",
      "\n",
      "\n",
      "Dataset Warning: video /home/vietlq4/zaloaichallenge/zaloai/train/videos/1669 has 6 frames but the dataloader is set up to load (num_segments=16)*(frames_per_segment=1)=16 frames. Dataloader will throw an error when trying to load this video.\n",
      "\n",
      "\n",
      "Dataset Warning: video /home/vietlq4/zaloaichallenge/zaloai/train/videos/1779 has 6 frames but the dataloader is set up to load (num_segments=16)*(frames_per_segment=1)=16 frames. Dataloader will throw an error when trying to load this video.\n",
      "\n",
      "\n",
      "Dataset Warning: video /home/vietlq4/zaloaichallenge/zaloai/train/videos/1838 has 6 frames but the dataloader is set up to load (num_segments=16)*(frames_per_segment=1)=16 frames. Dataloader will throw an error when trying to load this video.\n",
      "\n",
      "torch.Size([16, 3, 224, 224])\n",
      "/home/vietlq4/zaloaichallenge/zaloai/train/videos/252\n",
      "1\n"
     ]
    }
   ],
   "source": [
    "import random\n",
    "# random.seed(0)\n",
    "root = os.path.join(os.getcwd(), 'zaloai/train/videos')  # Folder in which all videos lie in a specific structure\n",
    "annotation_file = os.path.join(root.replace('videos', ''), 'annotations.txt')  # A row for each video sample as: (VIDEO_PATH START_FRAME END_FRAME CLASS_ID)\n",
    "\n",
    "\"\"\" DEMO 1 WITHOUT IMAGE TRANSFORMS \"\"\"\n",
    "dataset = VideoFrameDataset(\n",
    "    root_path=root,\n",
    "    annotationfile_path=annotation_file,\n",
    "    num_segments=16,\n",
    "    frames_per_segment=1,\n",
    "    imagefile_template='img_{:05d}.jpg',\n",
    "    transform=val_transform,\n",
    "    test_mode=False\n",
    ")\n",
    "\n",
    "sample = dataset[random.randint(0, 351)]  # take first sample of dataset \n",
    "frames = sample[0]   # list of PIL images\n",
    "label = sample[1]    # integer label\n",
    "path = sample[2]\n",
    "print(frames.shape)\n",
    "print(path)\n",
    "print(label)"
   ]
  },
  {
   "cell_type": "code",
   "execution_count": 2,
   "metadata": {},
   "outputs": [],
   "source": [
    "df = pd.read_csv('/home/vietlq4/zaloaichallenge/zaloai/train/label.csv')"
   ]
  },
  {
   "cell_type": "code",
   "execution_count": 3,
   "metadata": {},
   "outputs": [
    {
     "data": {
      "text/html": [
       "<div>\n",
       "<style scoped>\n",
       "    .dataframe tbody tr th:only-of-type {\n",
       "        vertical-align: middle;\n",
       "    }\n",
       "\n",
       "    .dataframe tbody tr th {\n",
       "        vertical-align: top;\n",
       "    }\n",
       "\n",
       "    .dataframe thead th {\n",
       "        text-align: right;\n",
       "    }\n",
       "</style>\n",
       "<table border=\"1\" class=\"dataframe\">\n",
       "  <thead>\n",
       "    <tr style=\"text-align: right;\">\n",
       "      <th></th>\n",
       "      <th>fname</th>\n",
       "      <th>liveness_score</th>\n",
       "    </tr>\n",
       "  </thead>\n",
       "  <tbody>\n",
       "    <tr>\n",
       "      <th>0</th>\n",
       "      <td>1.mp4</td>\n",
       "      <td>0</td>\n",
       "    </tr>\n",
       "    <tr>\n",
       "      <th>1</th>\n",
       "      <td>2.mp4</td>\n",
       "      <td>1</td>\n",
       "    </tr>\n",
       "    <tr>\n",
       "      <th>2</th>\n",
       "      <td>3.mp4</td>\n",
       "      <td>1</td>\n",
       "    </tr>\n",
       "    <tr>\n",
       "      <th>3</th>\n",
       "      <td>5.mp4</td>\n",
       "      <td>0</td>\n",
       "    </tr>\n",
       "    <tr>\n",
       "      <th>4</th>\n",
       "      <td>7.mp4</td>\n",
       "      <td>1</td>\n",
       "    </tr>\n",
       "  </tbody>\n",
       "</table>\n",
       "</div>"
      ],
      "text/plain": [
       "   fname  liveness_score\n",
       "0  1.mp4               0\n",
       "1  2.mp4               1\n",
       "2  3.mp4               1\n",
       "3  5.mp4               0\n",
       "4  7.mp4               1"
      ]
     },
     "execution_count": 3,
     "metadata": {},
     "output_type": "execute_result"
    }
   ],
   "source": [
    "df.head()"
   ]
  },
  {
   "cell_type": "code",
   "execution_count": 14,
   "metadata": {},
   "outputs": [],
   "source": [
    "X_train, X_test, y_train, y_test = train_test_split(df['fname'], df['liveness_score'], test_size=0.2, random_state=42)"
   ]
  },
  {
   "cell_type": "code",
   "execution_count": 17,
   "metadata": {},
   "outputs": [
    {
     "data": {
      "text/plain": [
       "'1.mp4'"
      ]
     },
     "execution_count": 17,
     "metadata": {},
     "output_type": "execute_result"
    }
   ],
   "source": [
    "X_train[0]"
   ]
  },
  {
   "cell_type": "code",
   "execution_count": 19,
   "metadata": {},
   "outputs": [],
   "source": [
    "X_train = [train.replace('.mp4','') for train in X_train]"
   ]
  },
  {
   "cell_type": "code",
   "execution_count": 20,
   "metadata": {},
   "outputs": [],
   "source": [
    "X_test = [test.replace('.mp4', '') for test in X_test]"
   ]
  },
  {
   "cell_type": "code",
   "execution_count": 21,
   "metadata": {},
   "outputs": [],
   "source": [
    "import numpy as np\n",
    "import os\n",
    "import pandas as pd\n",
    "\n",
    "path = '/home/vietlq4/zaloaichallenge/zaloai/train/videos'\n",
    "annotation_path = '/home/vietlq4/zaloaichallenge/zaloai/train/label.csv'\n",
    "annotation_out_file = '/home/vietlq4/zaloaichallenge/zaloai/train/train_annotations.txt'\n",
    "\n",
    "# video_filenames = os.listdir(path)\n",
    "label_df = None\n",
    "label2id = {}\n",
    "if len(annotation_path) != 0:\n",
    "    label_df = pd.read_csv(annotation_path)\n",
    "\n",
    "    for idx, row in label_df.iterrows():\n",
    "        label2id[row['fname'].replace('.mp4', '')] = int(row['liveness_score'])\n",
    "\n",
    "with open(annotation_out_file, 'w') as f:\n",
    "\n",
    "    for video_filename in sorted(X_train, key= lambda x: int(x)):\n",
    "        start_frame = 0\n",
    "        video_path = os.path.join(path, video_filename)\n",
    "        try:\n",
    "            num_frames = len(os.listdir(video_path))\n",
    "            if num_frames == 0:\n",
    "                print(f'{video_filename}- no frames')\n",
    "                continue\n",
    "        except FileNotFoundError as e:\n",
    "            print(e)\n",
    "            continue\n",
    "            \n",
    "        if len(annotation_path) == 0:\n",
    "            annotation_string = \"{} {} {}\\n\".format(\n",
    "                video_filename, start_frame, num_frames - 1)\n",
    "        else:\n",
    "            annotation_string = \"{} {} {} {}\\n\".format(\n",
    "                video_filename, start_frame, num_frames - 1, label2id[video_filename])\n",
    "\n",
    "        f.write(annotation_string)\n"
   ]
  },
  {
   "cell_type": "code",
   "execution_count": null,
   "metadata": {},
   "outputs": [],
   "source": []
  }
 ],
 "metadata": {
  "kernelspec": {
   "display_name": "py37",
   "language": "python",
   "name": "python3"
  },
  "language_info": {
   "codemirror_mode": {
    "name": "ipython",
    "version": 3
   },
   "file_extension": ".py",
   "mimetype": "text/x-python",
   "name": "python",
   "nbconvert_exporter": "python",
   "pygments_lexer": "ipython3",
   "version": "3.7.13"
  },
  "orig_nbformat": 4,
  "vscode": {
   "interpreter": {
    "hash": "c844a1953941c6e994ad36ecffaa47cd6e7c29c36adf75c89300a3339db050f1"
   }
  }
 },
 "nbformat": 4,
 "nbformat_minor": 2
}
